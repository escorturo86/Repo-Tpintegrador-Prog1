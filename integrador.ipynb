{
 "cells": [
  {
   "cell_type": "code",
   "execution_count": null,
   "id": "3fce4af0",
   "metadata": {},
   "outputs": [
    {
     "name": "stdout",
     "output_type": "stream",
     "text": [
      "0.0\n",
      "0.0\n",
      "3.4646987915039062\n",
      "12.300968170166016\n",
      "34.54089164733887\n",
      "143.3086395263672\n",
      "557.4114322662354\n",
      "2224.3916988372803\n",
      "8927.782773971558\n"
     ]
    }
   ],
   "source": [
    "import time\n",
    "\n",
    "\n",
    "def busqueda_ciclos(lista1,lista2):\n",
    "    start=time.time()\n",
    "    repetidos=[]\n",
    "    for i in lista1:\n",
    "        for x in lista2:\n",
    "            if i == x:\n",
    "                repetidos.append(i)\n",
    "    end=time.time()\n",
    "    return (end-start)*1000\n",
    "\n",
    "\n",
    "for n in [100,200,400,800,1600,3200,6400,12800,25600]:\n",
    "     print(busqueda_ciclos(list(range(n)),list(range(n))))   \n",
    "\n",
    "\n"
   ]
  },
  {
   "cell_type": "code",
   "execution_count": 263,
   "id": "c2c95b39",
   "metadata": {},
   "outputs": [
    {
     "name": "stdout",
     "output_type": "stream",
     "text": [
      "0.0\n",
      "0.0\n",
      "0.0\n",
      "1.8723011016845703\n",
      "0.6949901580810547\n",
      "26.999473571777344\n",
      "82.28278160095215\n",
      "358.1047058105469\n",
      "1441.3471221923828\n"
     ]
    }
   ],
   "source": [
    "import time\n",
    "\n",
    "def busqueda_in(lista1,lista2):\n",
    "    start=time.time()\n",
    "    repetidos=[]\n",
    "    for z in lista1:\n",
    "        if z in lista2:\n",
    "            repetidos.append(z)\n",
    "    end=time.time()\n",
    "    return (end-start)*1000\n",
    "\n",
    "for n in [100,200,400,800,1600,3200,6400,12800,25600]:\n",
    "     print(busqueda_in(list(range(n)),list(range(n))))   \n",
    "\n"
   ]
  },
  {
   "cell_type": "code",
   "execution_count": 274,
   "id": "856e5890",
   "metadata": {},
   "outputs": [
    {
     "name": "stdout",
     "output_type": "stream",
     "text": [
      "0.0\n",
      "0.0\n",
      "0.0\n",
      "0.0\n",
      "0.0\n",
      "0.0\n",
      "0.0\n",
      "0.0\n",
      "1.0104179382324219\n"
     ]
    }
   ],
   "source": [
    "def busqueda_set(lista1, lista2):\n",
    "    start=time.time()\n",
    "    set2 = set(lista2)  \n",
    "    repetidos = []\n",
    "    for z in lista1:   \n",
    "        if z in set2: \n",
    "            repetidos.append(z)\n",
    "    end=time.time()\n",
    "    return (end-start)*1000\n",
    "\n",
    "for n in [100,200,400,800,1600,3200,6400,12800,25600]:\n",
    "     print(busqueda_set(list(range(n)),list(range(n))))   "
   ]
  }
 ],
 "metadata": {
  "kernelspec": {
   "display_name": "Python 3",
   "language": "python",
   "name": "python3"
  },
  "language_info": {
   "codemirror_mode": {
    "name": "ipython",
    "version": 3
   },
   "file_extension": ".py",
   "mimetype": "text/x-python",
   "name": "python",
   "nbconvert_exporter": "python",
   "pygments_lexer": "ipython3",
   "version": "3.12.10"
  }
 },
 "nbformat": 4,
 "nbformat_minor": 5
}
